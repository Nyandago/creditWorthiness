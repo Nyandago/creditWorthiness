{
 "cells": [
  {
   "cell_type": "code",
   "execution_count": 1,
   "id": "177c3dc5-2a0f-470d-84f9-c8108b9eef68",
   "metadata": {},
   "outputs": [],
   "source": [
    "import pandas as pd \n",
    "import matplotlib.pyplot as plt \n",
    "import seaborn as sns \n",
    "import warnings \n",
    "warnings.filterwarnings('ignore')"
   ]
  },
  {
   "cell_type": "code",
   "execution_count": 2,
   "id": "371dbb86-68e0-4885-a5af-680ab34d8ca6",
   "metadata": {},
   "outputs": [],
   "source": [
    "data = pd.read_csv('CreditWorthiness.csv')"
   ]
  },
  {
   "cell_type": "code",
   "execution_count": 3,
   "id": "c31148fa-c9cf-46e8-9abb-698eccc8c361",
   "metadata": {},
   "outputs": [
    {
     "data": {
      "text/plain": [
       "(1000, 21)"
      ]
     },
     "execution_count": 3,
     "metadata": {},
     "output_type": "execute_result"
    }
   ],
   "source": [
    "data.shape"
   ]
  },
  {
   "cell_type": "code",
   "execution_count": 4,
   "id": "15b73b51-1c1a-4a70-abfa-28fdc37e604b",
   "metadata": {},
   "outputs": [
    {
     "data": {
      "text/plain": [
       "Cbal             4\n",
       "Cdur            33\n",
       "Chist            4\n",
       "Cpur            10\n",
       "Camt           921\n",
       "Sbal             5\n",
       "Edur             5\n",
       "InRate           4\n",
       "MSG              4\n",
       "Oparties         3\n",
       "Rdur             4\n",
       "Prop             4\n",
       "age             53\n",
       "inPlans          3\n",
       "Htype            3\n",
       "NumCred          4\n",
       "JobType          4\n",
       "Ndepend          2\n",
       "telephone        2\n",
       "foreign          2\n",
       "creditScore      2\n",
       "dtype: int64"
      ]
     },
     "execution_count": 4,
     "metadata": {},
     "output_type": "execute_result"
    }
   ],
   "source": [
    "data.nunique()\n"
   ]
  },
  {
   "cell_type": "code",
   "execution_count": 5,
   "id": "79760181-bdd7-4792-8c1e-b93a3493d9e2",
   "metadata": {},
   "outputs": [
    {
     "data": {
      "text/plain": [
       "creditScore\n",
       "good    700\n",
       "bad     300\n",
       "Name: count, dtype: int64"
      ]
     },
     "execution_count": 5,
     "metadata": {},
     "output_type": "execute_result"
    }
   ],
   "source": [
    "data['creditScore'].value_counts()"
   ]
  },
  {
   "cell_type": "code",
   "execution_count": 6,
   "id": "f3ef3be0-5c3e-4c42-b1de-d594ec0cc776",
   "metadata": {},
   "outputs": [
    {
     "data": {
      "text/plain": [
       "Cbal           0\n",
       "Cdur           0\n",
       "Chist          0\n",
       "Cpur           0\n",
       "Camt           0\n",
       "Sbal           0\n",
       "Edur           0\n",
       "InRate         0\n",
       "MSG            0\n",
       "Oparties       0\n",
       "Rdur           0\n",
       "Prop           0\n",
       "age            0\n",
       "inPlans        0\n",
       "Htype          0\n",
       "NumCred        0\n",
       "JobType        0\n",
       "Ndepend        0\n",
       "telephone      0\n",
       "foreign        0\n",
       "creditScore    0\n",
       "dtype: int64"
      ]
     },
     "execution_count": 6,
     "metadata": {},
     "output_type": "execute_result"
    }
   ],
   "source": [
    "data.isnull().sum()"
   ]
  },
  {
   "cell_type": "code",
   "execution_count": 7,
   "id": "ec7087c4-ae86-47e0-b8a0-85c19e4c16d4",
   "metadata": {},
   "outputs": [
    {
     "data": {
      "text/plain": [
       "0"
      ]
     },
     "execution_count": 7,
     "metadata": {},
     "output_type": "execute_result"
    }
   ],
   "source": [
    "data.duplicated().sum()"
   ]
  },
  {
   "cell_type": "code",
   "execution_count": 8,
   "id": "a8b471ee-730e-4556-9184-d52307ee7c17",
   "metadata": {},
   "outputs": [
    {
     "data": {
      "text/html": [
       "<div>\n",
       "<style scoped>\n",
       "    .dataframe tbody tr th:only-of-type {\n",
       "        vertical-align: middle;\n",
       "    }\n",
       "\n",
       "    .dataframe tbody tr th {\n",
       "        vertical-align: top;\n",
       "    }\n",
       "\n",
       "    .dataframe thead th {\n",
       "        text-align: right;\n",
       "    }\n",
       "</style>\n",
       "<table border=\"1\" class=\"dataframe\">\n",
       "  <thead>\n",
       "    <tr style=\"text-align: right;\">\n",
       "      <th></th>\n",
       "      <th>Cbal</th>\n",
       "      <th>Cdur</th>\n",
       "      <th>Chist</th>\n",
       "      <th>Cpur</th>\n",
       "      <th>Camt</th>\n",
       "      <th>Sbal</th>\n",
       "      <th>Edur</th>\n",
       "      <th>InRate</th>\n",
       "      <th>MSG</th>\n",
       "      <th>Oparties</th>\n",
       "      <th>...</th>\n",
       "      <th>Prop</th>\n",
       "      <th>age</th>\n",
       "      <th>inPlans</th>\n",
       "      <th>Htype</th>\n",
       "      <th>NumCred</th>\n",
       "      <th>JobType</th>\n",
       "      <th>Ndepend</th>\n",
       "      <th>telephone</th>\n",
       "      <th>foreign</th>\n",
       "      <th>creditScore</th>\n",
       "    </tr>\n",
       "  </thead>\n",
       "  <tbody>\n",
       "    <tr>\n",
       "      <th>0</th>\n",
       "      <td>0 &lt;= Rs. &lt; 2000</td>\n",
       "      <td>9</td>\n",
       "      <td>all settled till now</td>\n",
       "      <td>Business</td>\n",
       "      <td>13790</td>\n",
       "      <td>Rs. &lt; 1000</td>\n",
       "      <td>1 to 4 years</td>\n",
       "      <td>2</td>\n",
       "      <td>married or widowed male</td>\n",
       "      <td>no one</td>\n",
       "      <td>...</td>\n",
       "      <td>real estate</td>\n",
       "      <td>27</td>\n",
       "      <td>bank</td>\n",
       "      <td>own</td>\n",
       "      <td>1</td>\n",
       "      <td>employee with official position</td>\n",
       "      <td>1</td>\n",
       "      <td>yes</td>\n",
       "      <td>no</td>\n",
       "      <td>good</td>\n",
       "    </tr>\n",
       "    <tr>\n",
       "      <th>1</th>\n",
       "      <td>0 &lt;= Rs. &lt; 2000</td>\n",
       "      <td>15</td>\n",
       "      <td>dues not paid earlier</td>\n",
       "      <td>electronics</td>\n",
       "      <td>15250</td>\n",
       "      <td>no savings account</td>\n",
       "      <td>more than 7 years</td>\n",
       "      <td>4</td>\n",
       "      <td>single male</td>\n",
       "      <td>yes, guarantor</td>\n",
       "      <td>...</td>\n",
       "      <td>real estate</td>\n",
       "      <td>50</td>\n",
       "      <td>none</td>\n",
       "      <td>own</td>\n",
       "      <td>2</td>\n",
       "      <td>employee with official position</td>\n",
       "      <td>1</td>\n",
       "      <td>yes</td>\n",
       "      <td>no</td>\n",
       "      <td>good</td>\n",
       "    </tr>\n",
       "    <tr>\n",
       "      <th>2</th>\n",
       "      <td>0 &lt;= Rs. &lt; 2000</td>\n",
       "      <td>36</td>\n",
       "      <td>none taken/all settled</td>\n",
       "      <td>Business</td>\n",
       "      <td>19410</td>\n",
       "      <td>Rs. &lt; 1000</td>\n",
       "      <td>more than 7 years</td>\n",
       "      <td>4</td>\n",
       "      <td>single male</td>\n",
       "      <td>no one</td>\n",
       "      <td>...</td>\n",
       "      <td>Unknown</td>\n",
       "      <td>61</td>\n",
       "      <td>none</td>\n",
       "      <td>free</td>\n",
       "      <td>1</td>\n",
       "      <td>employed either in management, self or in high...</td>\n",
       "      <td>1</td>\n",
       "      <td>yes</td>\n",
       "      <td>no</td>\n",
       "      <td>bad</td>\n",
       "    </tr>\n",
       "    <tr>\n",
       "      <th>3</th>\n",
       "      <td>0 &lt;= Rs. &lt; 2000</td>\n",
       "      <td>48</td>\n",
       "      <td>none taken/all settled</td>\n",
       "      <td>Business</td>\n",
       "      <td>144090</td>\n",
       "      <td>Rs. &lt; 1000</td>\n",
       "      <td>1 to 4 years</td>\n",
       "      <td>2</td>\n",
       "      <td>single male</td>\n",
       "      <td>no one</td>\n",
       "      <td>...</td>\n",
       "      <td>Other cars etc.</td>\n",
       "      <td>25</td>\n",
       "      <td>none</td>\n",
       "      <td>own</td>\n",
       "      <td>1</td>\n",
       "      <td>employee with official position</td>\n",
       "      <td>1</td>\n",
       "      <td>yes</td>\n",
       "      <td>no</td>\n",
       "      <td>bad</td>\n",
       "    </tr>\n",
       "    <tr>\n",
       "      <th>4</th>\n",
       "      <td>no checking account</td>\n",
       "      <td>24</td>\n",
       "      <td>all settled till now</td>\n",
       "      <td>electronics</td>\n",
       "      <td>31690</td>\n",
       "      <td>Rs. &lt; 1000</td>\n",
       "      <td>less than 1 year</td>\n",
       "      <td>4</td>\n",
       "      <td>divorced or separated or married female</td>\n",
       "      <td>no one</td>\n",
       "      <td>...</td>\n",
       "      <td>life insurance/building society</td>\n",
       "      <td>26</td>\n",
       "      <td>none</td>\n",
       "      <td>own</td>\n",
       "      <td>1</td>\n",
       "      <td>employee with official position</td>\n",
       "      <td>1</td>\n",
       "      <td>yes</td>\n",
       "      <td>no</td>\n",
       "      <td>good</td>\n",
       "    </tr>\n",
       "  </tbody>\n",
       "</table>\n",
       "<p>5 rows × 21 columns</p>\n",
       "</div>"
      ],
      "text/plain": [
       "                  Cbal  Cdur                   Chist         Cpur    Camt  \\\n",
       "0      0 <= Rs. < 2000     9    all settled till now     Business   13790   \n",
       "1      0 <= Rs. < 2000    15   dues not paid earlier  electronics   15250   \n",
       "2      0 <= Rs. < 2000    36  none taken/all settled     Business   19410   \n",
       "3      0 <= Rs. < 2000    48  none taken/all settled     Business  144090   \n",
       "4  no checking account    24    all settled till now  electronics   31690   \n",
       "\n",
       "                 Sbal               Edur  InRate  \\\n",
       "0          Rs. < 1000       1 to 4 years       2   \n",
       "1  no savings account  more than 7 years       4   \n",
       "2          Rs. < 1000  more than 7 years       4   \n",
       "3          Rs. < 1000       1 to 4 years       2   \n",
       "4          Rs. < 1000   less than 1 year       4   \n",
       "\n",
       "                                       MSG        Oparties  ...  \\\n",
       "0                  married or widowed male          no one  ...   \n",
       "1                              single male  yes, guarantor  ...   \n",
       "2                              single male          no one  ...   \n",
       "3                              single male          no one  ...   \n",
       "4  divorced or separated or married female          no one  ...   \n",
       "\n",
       "                              Prop age  inPlans Htype NumCred  \\\n",
       "0                      real estate  27     bank   own       1   \n",
       "1                      real estate  50     none   own       2   \n",
       "2                          Unknown  61     none  free       1   \n",
       "3                  Other cars etc.  25     none   own       1   \n",
       "4  life insurance/building society  26     none   own       1   \n",
       "\n",
       "                                             JobType Ndepend  telephone  \\\n",
       "0                    employee with official position       1        yes   \n",
       "1                    employee with official position       1        yes   \n",
       "2  employed either in management, self or in high...       1        yes   \n",
       "3                    employee with official position       1        yes   \n",
       "4                    employee with official position       1        yes   \n",
       "\n",
       "  foreign creditScore  \n",
       "0      no        good  \n",
       "1      no        good  \n",
       "2      no         bad  \n",
       "3      no         bad  \n",
       "4      no        good  \n",
       "\n",
       "[5 rows x 21 columns]"
      ]
     },
     "execution_count": 8,
     "metadata": {},
     "output_type": "execute_result"
    }
   ],
   "source": [
    "data.head()"
   ]
  },
  {
   "cell_type": "code",
   "execution_count": 9,
   "id": "90fd227a-4124-4a58-870d-27c4591b2f25",
   "metadata": {},
   "outputs": [
    {
     "name": "stdout",
     "output_type": "stream",
     "text": [
      "<class 'pandas.core.frame.DataFrame'>\n",
      "RangeIndex: 1000 entries, 0 to 999\n",
      "Data columns (total 21 columns):\n",
      " #   Column       Non-Null Count  Dtype \n",
      "---  ------       --------------  ----- \n",
      " 0   Cbal         1000 non-null   object\n",
      " 1   Cdur         1000 non-null   int64 \n",
      " 2   Chist        1000 non-null   object\n",
      " 3   Cpur         1000 non-null   object\n",
      " 4   Camt         1000 non-null   int64 \n",
      " 5   Sbal         1000 non-null   object\n",
      " 6   Edur         1000 non-null   object\n",
      " 7   InRate       1000 non-null   int64 \n",
      " 8   MSG          1000 non-null   object\n",
      " 9   Oparties     1000 non-null   object\n",
      " 10  Rdur         1000 non-null   object\n",
      " 11  Prop         1000 non-null   object\n",
      " 12  age          1000 non-null   int64 \n",
      " 13  inPlans      1000 non-null   object\n",
      " 14  Htype        1000 non-null   object\n",
      " 15  NumCred      1000 non-null   int64 \n",
      " 16  JobType      1000 non-null   object\n",
      " 17  Ndepend      1000 non-null   int64 \n",
      " 18  telephone    1000 non-null   object\n",
      " 19  foreign      1000 non-null   object\n",
      " 20  creditScore  1000 non-null   object\n",
      "dtypes: int64(6), object(15)\n",
      "memory usage: 164.2+ KB\n"
     ]
    }
   ],
   "source": [
    "data.info()"
   ]
  },
  {
   "cell_type": "code",
   "execution_count": 10,
   "id": "19ced9fc-cae9-4352-93f6-ad5c5e132f1c",
   "metadata": {},
   "outputs": [
    {
     "name": "stdout",
     "output_type": "stream",
     "text": [
      "Column: Cbal\n",
      "['0 <= Rs. < 2000' 'no checking account' ' Rs. < 0' 'Rs. >=2000']\n",
      "--------------------------------------------------\n",
      "Column: Chist\n",
      "['all settled till now' 'dues not paid earlier' 'none taken/all settled'\n",
      " 'all settled']\n",
      "--------------------------------------------------\n",
      "Column: Sbal\n",
      "['Rs. < 1000' 'no savings account' 'Rs. >= 10,000' '5000 <= Rs. < 10,000'\n",
      " '1000 <= Rs. < 5,000']\n",
      "--------------------------------------------------\n",
      "Column: Edur\n",
      "['1 to 4 years' 'more than 7 years' 'less than 1 year' '4 to 7 years'\n",
      " 'not employed']\n",
      "--------------------------------------------------\n",
      "Column: InRate\n",
      "[2 4 1 3]\n",
      "--------------------------------------------------\n",
      "Column: MSG\n",
      "['married or widowed male' 'single male'\n",
      " 'divorced or separated or married female' 'divorced or separated male']\n",
      "--------------------------------------------------\n",
      "Column: Oparties\n",
      "['no one' 'yes, guarantor' 'yes, co-applicant']\n",
      "--------------------------------------------------\n",
      "Column: Rdur\n",
      "['less than a year' 'more than 3 years' '1 to 2 years' '2 to 3 years']\n",
      "--------------------------------------------------\n",
      "Column: Prop\n",
      "['real estate' 'Unknown' 'Other cars etc.'\n",
      " 'life insurance/building society']\n",
      "--------------------------------------------------\n",
      "Column: inPlans\n",
      "['bank' 'none' 'stores']\n",
      "--------------------------------------------------\n",
      "Column: Htype\n",
      "['own' 'free' 'pays rent']\n",
      "--------------------------------------------------\n",
      "Column: NumCred\n",
      "[1 2 4 3]\n",
      "--------------------------------------------------\n",
      "Column: JobType\n",
      "['employee with official position'\n",
      " 'employed either in management, self or in high position'\n",
      " 'resident unskilled' 'non resident either unemployed or  unskilled ']\n",
      "--------------------------------------------------\n",
      "Column: Ndepend\n",
      "[1 2]\n",
      "--------------------------------------------------\n",
      "Column: telephone\n",
      "['yes' 'no']\n",
      "--------------------------------------------------\n",
      "Column: foreign\n",
      "['no' 'yes']\n",
      "--------------------------------------------------\n",
      "Column: creditScore\n",
      "['good' 'bad']\n",
      "--------------------------------------------------\n"
     ]
    }
   ],
   "source": [
    "# Find columns with unique values not more than 5\n",
    "saft_categ = [col for col in data.columns if data[col].nunique() <= 5]\n",
    "\n",
    "# Display unique values for those columns\n",
    "for col in saft_categ:\n",
    "    print(f\"Column: {col}\")\n",
    "    print(data[col].unique())\n",
    "    print(\"-\" * 50)"
   ]
  },
  {
   "cell_type": "code",
   "execution_count": 11,
   "id": "e5d34508-9876-4613-bd20-ba162277c5fb",
   "metadata": {},
   "outputs": [
    {
     "ename": "ModuleNotFoundError",
     "evalue": "No module named 'xgboost'",
     "output_type": "error",
     "traceback": [
      "\u001b[0;31m---------------------------------------------------------------------------\u001b[0m",
      "\u001b[0;31mModuleNotFoundError\u001b[0m                       Traceback (most recent call last)",
      "Cell \u001b[0;32mIn[11], line 17\u001b[0m\n\u001b[1;32m     15\u001b[0m \u001b[38;5;28;01mfrom\u001b[39;00m \u001b[38;5;21;01msklearn\u001b[39;00m\u001b[38;5;21;01m.\u001b[39;00m\u001b[38;5;21;01mlinear_model\u001b[39;00m \u001b[38;5;28;01mimport\u001b[39;00m LogisticRegression\n\u001b[1;32m     16\u001b[0m \u001b[38;5;28;01mfrom\u001b[39;00m \u001b[38;5;21;01msklearn\u001b[39;00m\u001b[38;5;21;01m.\u001b[39;00m\u001b[38;5;21;01mensemble\u001b[39;00m \u001b[38;5;28;01mimport\u001b[39;00m RandomForestClassifier\n\u001b[0;32m---> 17\u001b[0m \u001b[38;5;28;01mfrom\u001b[39;00m \u001b[38;5;21;01mxgboost\u001b[39;00m \u001b[38;5;28;01mimport\u001b[39;00m XGBClassifier\n\u001b[1;32m     19\u001b[0m \u001b[38;5;66;03m# Evaluation\u001b[39;00m\n\u001b[1;32m     20\u001b[0m \u001b[38;5;28;01mfrom\u001b[39;00m \u001b[38;5;21;01msklearn\u001b[39;00m\u001b[38;5;21;01m.\u001b[39;00m\u001b[38;5;21;01mmetrics\u001b[39;00m \u001b[38;5;28;01mimport\u001b[39;00m classification_report, roc_auc_score, confusion_matrix, RocCurveDisplay\n",
      "\u001b[0;31mModuleNotFoundError\u001b[0m: No module named 'xgboost'"
     ]
    }
   ],
   "source": [
    "# General Libraries\n",
    "import pandas as pd\n",
    "import numpy as np\n",
    "import matplotlib.pyplot as plt\n",
    "import seaborn as sns\n",
    "\n",
    "# Preprocessing\n",
    "from sklearn.model_selection import train_test_split\n",
    "from sklearn.preprocessing import StandardScaler, OneHotEncoder\n",
    "from sklearn.impute import SimpleImputer\n",
    "from sklearn.compose import ColumnTransformer\n",
    "from sklearn.pipeline import Pipeline\n",
    "\n",
    "# Models\n",
    "from sklearn.linear_model import LogisticRegression\n",
    "from sklearn.ensemble import RandomForestClassifier\n",
    "from xgboost import XGBClassifier\n",
    "\n",
    "# Evaluation\n",
    "from sklearn.metrics import classification_report, roc_auc_score, confusion_matrix, RocCurveDisplay\n",
    "\n"
   ]
  },
  {
   "cell_type": "code",
   "execution_count": null,
   "id": "559674e6-a883-4bbe-8548-b425cd0349a1",
   "metadata": {},
   "outputs": [
    {
     "name": "stdout",
     "output_type": "stream",
     "text": [
      "<class 'pandas.core.frame.DataFrame'>\n",
      "RangeIndex: 1000 entries, 0 to 999\n",
      "Data columns (total 21 columns):\n",
      " #   Column       Non-Null Count  Dtype \n",
      "---  ------       --------------  ----- \n",
      " 0   Cbal         1000 non-null   object\n",
      " 1   Cdur         1000 non-null   int64 \n",
      " 2   Chist        1000 non-null   object\n",
      " 3   Cpur         1000 non-null   object\n",
      " 4   Camt         1000 non-null   int64 \n",
      " 5   Sbal         1000 non-null   object\n",
      " 6   Edur         1000 non-null   object\n",
      " 7   InRate       1000 non-null   int64 \n",
      " 8   MSG          1000 non-null   object\n",
      " 9   Oparties     1000 non-null   object\n",
      " 10  Rdur         1000 non-null   object\n",
      " 11  Prop         1000 non-null   object\n",
      " 12  age          1000 non-null   int64 \n",
      " 13  inPlans      1000 non-null   object\n",
      " 14  Htype        1000 non-null   object\n",
      " 15  NumCred      1000 non-null   int64 \n",
      " 16  JobType      1000 non-null   object\n",
      " 17  Ndepend      1000 non-null   int64 \n",
      " 18  telephone    1000 non-null   object\n",
      " 19  foreign      1000 non-null   object\n",
      " 20  creditScore  1000 non-null   object\n",
      "dtypes: int64(6), object(15)\n",
      "memory usage: 164.2+ KB\n"
     ]
    }
   ],
   "source": [
    "df = pd.read_csv('CreditWorthiness.csv')\n",
    "\n",
    "# Display dataset overview\n",
    "df.info()"
   ]
  },
  {
   "cell_type": "code",
   "execution_count": null,
   "id": "9e21378f-bc66-4f05-acc4-d475a5f3a7d9",
   "metadata": {},
   "outputs": [
    {
     "data": {
      "text/html": [
       "<div>\n",
       "<style scoped>\n",
       "    .dataframe tbody tr th:only-of-type {\n",
       "        vertical-align: middle;\n",
       "    }\n",
       "\n",
       "    .dataframe tbody tr th {\n",
       "        vertical-align: top;\n",
       "    }\n",
       "\n",
       "    .dataframe thead th {\n",
       "        text-align: right;\n",
       "    }\n",
       "</style>\n",
       "<table border=\"1\" class=\"dataframe\">\n",
       "  <thead>\n",
       "    <tr style=\"text-align: right;\">\n",
       "      <th></th>\n",
       "      <th>Cbal</th>\n",
       "      <th>Cdur</th>\n",
       "      <th>Chist</th>\n",
       "      <th>Cpur</th>\n",
       "      <th>Camt</th>\n",
       "      <th>Sbal</th>\n",
       "      <th>Edur</th>\n",
       "      <th>InRate</th>\n",
       "      <th>MSG</th>\n",
       "      <th>Oparties</th>\n",
       "      <th>Rdur</th>\n",
       "      <th>Prop</th>\n",
       "      <th>age</th>\n",
       "      <th>inPlans</th>\n",
       "      <th>Htype</th>\n",
       "      <th>NumCred</th>\n",
       "      <th>JobType</th>\n",
       "      <th>Ndepend</th>\n",
       "      <th>telephone</th>\n",
       "      <th>foreign</th>\n",
       "    </tr>\n",
       "  </thead>\n",
       "  <tbody>\n",
       "    <tr>\n",
       "      <th>0</th>\n",
       "      <td>0 &lt;= Rs. &lt; 2000</td>\n",
       "      <td>9</td>\n",
       "      <td>all settled till now</td>\n",
       "      <td>Business</td>\n",
       "      <td>13790</td>\n",
       "      <td>Rs. &lt; 1000</td>\n",
       "      <td>1 to 4 years</td>\n",
       "      <td>2</td>\n",
       "      <td>married or widowed male</td>\n",
       "      <td>no one</td>\n",
       "      <td>less than a year</td>\n",
       "      <td>real estate</td>\n",
       "      <td>27</td>\n",
       "      <td>bank</td>\n",
       "      <td>own</td>\n",
       "      <td>1</td>\n",
       "      <td>employee with official position</td>\n",
       "      <td>1</td>\n",
       "      <td>yes</td>\n",
       "      <td>no</td>\n",
       "    </tr>\n",
       "    <tr>\n",
       "      <th>1</th>\n",
       "      <td>0 &lt;= Rs. &lt; 2000</td>\n",
       "      <td>15</td>\n",
       "      <td>dues not paid earlier</td>\n",
       "      <td>electronics</td>\n",
       "      <td>15250</td>\n",
       "      <td>no savings account</td>\n",
       "      <td>more than 7 years</td>\n",
       "      <td>4</td>\n",
       "      <td>single male</td>\n",
       "      <td>yes, guarantor</td>\n",
       "      <td>more than 3 years</td>\n",
       "      <td>real estate</td>\n",
       "      <td>50</td>\n",
       "      <td>none</td>\n",
       "      <td>own</td>\n",
       "      <td>2</td>\n",
       "      <td>employee with official position</td>\n",
       "      <td>1</td>\n",
       "      <td>yes</td>\n",
       "      <td>no</td>\n",
       "    </tr>\n",
       "    <tr>\n",
       "      <th>2</th>\n",
       "      <td>0 &lt;= Rs. &lt; 2000</td>\n",
       "      <td>36</td>\n",
       "      <td>none taken/all settled</td>\n",
       "      <td>Business</td>\n",
       "      <td>19410</td>\n",
       "      <td>Rs. &lt; 1000</td>\n",
       "      <td>more than 7 years</td>\n",
       "      <td>4</td>\n",
       "      <td>single male</td>\n",
       "      <td>no one</td>\n",
       "      <td>more than 3 years</td>\n",
       "      <td>Unknown</td>\n",
       "      <td>61</td>\n",
       "      <td>none</td>\n",
       "      <td>free</td>\n",
       "      <td>1</td>\n",
       "      <td>employed either in management, self or in high...</td>\n",
       "      <td>1</td>\n",
       "      <td>yes</td>\n",
       "      <td>no</td>\n",
       "    </tr>\n",
       "    <tr>\n",
       "      <th>3</th>\n",
       "      <td>0 &lt;= Rs. &lt; 2000</td>\n",
       "      <td>48</td>\n",
       "      <td>none taken/all settled</td>\n",
       "      <td>Business</td>\n",
       "      <td>144090</td>\n",
       "      <td>Rs. &lt; 1000</td>\n",
       "      <td>1 to 4 years</td>\n",
       "      <td>2</td>\n",
       "      <td>single male</td>\n",
       "      <td>no one</td>\n",
       "      <td>1 to 2 years</td>\n",
       "      <td>Other cars etc.</td>\n",
       "      <td>25</td>\n",
       "      <td>none</td>\n",
       "      <td>own</td>\n",
       "      <td>1</td>\n",
       "      <td>employee with official position</td>\n",
       "      <td>1</td>\n",
       "      <td>yes</td>\n",
       "      <td>no</td>\n",
       "    </tr>\n",
       "    <tr>\n",
       "      <th>4</th>\n",
       "      <td>no checking account</td>\n",
       "      <td>24</td>\n",
       "      <td>all settled till now</td>\n",
       "      <td>electronics</td>\n",
       "      <td>31690</td>\n",
       "      <td>Rs. &lt; 1000</td>\n",
       "      <td>less than 1 year</td>\n",
       "      <td>4</td>\n",
       "      <td>divorced or separated or married female</td>\n",
       "      <td>no one</td>\n",
       "      <td>more than 3 years</td>\n",
       "      <td>life insurance/building society</td>\n",
       "      <td>26</td>\n",
       "      <td>none</td>\n",
       "      <td>own</td>\n",
       "      <td>1</td>\n",
       "      <td>employee with official position</td>\n",
       "      <td>1</td>\n",
       "      <td>yes</td>\n",
       "      <td>no</td>\n",
       "    </tr>\n",
       "  </tbody>\n",
       "</table>\n",
       "</div>"
      ],
      "text/plain": [
       "                  Cbal  Cdur                   Chist         Cpur    Camt  \\\n",
       "0      0 <= Rs. < 2000     9    all settled till now     Business   13790   \n",
       "1      0 <= Rs. < 2000    15   dues not paid earlier  electronics   15250   \n",
       "2      0 <= Rs. < 2000    36  none taken/all settled     Business   19410   \n",
       "3      0 <= Rs. < 2000    48  none taken/all settled     Business  144090   \n",
       "4  no checking account    24    all settled till now  electronics   31690   \n",
       "\n",
       "                 Sbal               Edur  InRate  \\\n",
       "0          Rs. < 1000       1 to 4 years       2   \n",
       "1  no savings account  more than 7 years       4   \n",
       "2          Rs. < 1000  more than 7 years       4   \n",
       "3          Rs. < 1000       1 to 4 years       2   \n",
       "4          Rs. < 1000   less than 1 year       4   \n",
       "\n",
       "                                       MSG        Oparties               Rdur  \\\n",
       "0                  married or widowed male          no one   less than a year   \n",
       "1                              single male  yes, guarantor  more than 3 years   \n",
       "2                              single male          no one  more than 3 years   \n",
       "3                              single male          no one       1 to 2 years   \n",
       "4  divorced or separated or married female          no one  more than 3 years   \n",
       "\n",
       "                              Prop  age inPlans Htype  NumCred  \\\n",
       "0                      real estate   27    bank   own        1   \n",
       "1                      real estate   50    none   own        2   \n",
       "2                          Unknown   61    none  free        1   \n",
       "3                  Other cars etc.   25    none   own        1   \n",
       "4  life insurance/building society   26    none   own        1   \n",
       "\n",
       "                                             JobType  Ndepend telephone  \\\n",
       "0                    employee with official position        1       yes   \n",
       "1                    employee with official position        1       yes   \n",
       "2  employed either in management, self or in high...        1       yes   \n",
       "3                    employee with official position        1       yes   \n",
       "4                    employee with official position        1       yes   \n",
       "\n",
       "  foreign  \n",
       "0      no  \n",
       "1      no  \n",
       "2      no  \n",
       "3      no  \n",
       "4      no  "
      ]
     },
     "execution_count": 54,
     "metadata": {},
     "output_type": "execute_result"
    }
   ],
   "source": [
    "X.head()"
   ]
  },
  {
   "cell_type": "code",
   "execution_count": null,
   "id": "fc64f461-7412-4b5c-a1b3-f061e34d10fb",
   "metadata": {},
   "outputs": [],
   "source": [
    "# Separate target and features\n",
    "X = df.drop(columns=[\"creditScore\"])\n",
    "y = df[\"creditScore\"].apply(lambda x: 1 if x == \"good\" else 0)  # Encode target variable\n",
    "\n"
   ]
  },
  {
   "cell_type": "code",
   "execution_count": null,
   "id": "ce7b0556-8014-4591-a66f-ae97e27707d0",
   "metadata": {},
   "outputs": [],
   "source": [
    "x = pd.get_dummies(X)"
   ]
  },
  {
   "cell_type": "code",
   "execution_count": null,
   "id": "3beb02c6-655c-4b15-bfcd-2840ea22d10a",
   "metadata": {},
   "outputs": [],
   "source": [
    "# Split the dataset\n",
    "X_train, X_test, y_train, y_test = train_test_split(x, y, test_size=0.2, random_state=42, stratify=y)\n"
   ]
  },
  {
   "cell_type": "code",
   "execution_count": null,
   "id": "f0156dd7-94fa-4031-9f63-32904b1c23ea",
   "metadata": {
    "scrolled": true
   },
   "outputs": [
    {
     "name": "stdout",
     "output_type": "stream",
     "text": [
      "<class 'pandas.core.frame.DataFrame'>\n",
      "Int64Index: 800 entries, 718 to 479\n",
      "Data columns (total 49 columns):\n",
      " #   Column                                                 Non-Null Count  Dtype\n",
      "---  ------                                                 --------------  -----\n",
      " 0   Cdur                                                   800 non-null    int64\n",
      " 1   Camt                                                   800 non-null    int64\n",
      " 2   InRate                                                 800 non-null    int64\n",
      " 3   age                                                    800 non-null    int64\n",
      " 4   NumCred                                                800 non-null    int64\n",
      " 5   Ndepend                                                800 non-null    int64\n",
      " 6   Cbal_0 <= Rs. < 2000                                   800 non-null    uint8\n",
      " 7   Cbal_Rs. >=2000                                        800 non-null    uint8\n",
      " 8   Cbal_no checking account                               800 non-null    uint8\n",
      " 9   Chist_all settled till now                             800 non-null    uint8\n",
      " 10  Chist_dues not paid earlier                            800 non-null    uint8\n",
      " 11  Chist_none taken/all settled                           800 non-null    uint8\n",
      " 12  Cpur_domestic needs                                    800 non-null    uint8\n",
      " 13  Cpur_education                                         800 non-null    uint8\n",
      " 14  Cpur_electronics                                       800 non-null    uint8\n",
      " 15  Cpur_furniture                                         800 non-null    uint8\n",
      " 16  Cpur_miscellaneous                                     800 non-null    uint8\n",
      " 17  Cpur_new vehicle                                       800 non-null    uint8\n",
      " 18  Cpur_renovation                                        800 non-null    uint8\n",
      " 19  Cpur_retaining                                         800 non-null    uint8\n",
      " 20  Cpur_second hand vehicle                               800 non-null    uint8\n",
      " 21  Sbal_5000 <= Rs. < 10,000                              800 non-null    uint8\n",
      " 22  Sbal_Rs. < 1000                                        800 non-null    uint8\n",
      " 23  Sbal_Rs. >= 10,000                                     800 non-null    uint8\n",
      " 24  Sbal_no savings account                                800 non-null    uint8\n",
      " 25  Edur_4 to 7 years                                      800 non-null    uint8\n",
      " 26  Edur_less than 1 year                                  800 non-null    uint8\n",
      " 27  Edur_more than 7 years                                 800 non-null    uint8\n",
      " 28  Edur_not employed                                      800 non-null    uint8\n",
      " 29  MSG_divorced or separated or married female            800 non-null    uint8\n",
      " 30  MSG_married or widowed male                            800 non-null    uint8\n",
      " 31  MSG_single male                                        800 non-null    uint8\n",
      " 32  Oparties_yes, co-applicant                             800 non-null    uint8\n",
      " 33  Oparties_yes, guarantor                                800 non-null    uint8\n",
      " 34  Rdur_2 to 3 years                                      800 non-null    uint8\n",
      " 35  Rdur_less than a year                                  800 non-null    uint8\n",
      " 36  Rdur_more than 3 years                                 800 non-null    uint8\n",
      " 37  Prop_Unknown                                           800 non-null    uint8\n",
      " 38  Prop_life insurance/building society                   800 non-null    uint8\n",
      " 39  Prop_real estate                                       800 non-null    uint8\n",
      " 40  inPlans_none                                           800 non-null    uint8\n",
      " 41  inPlans_stores                                         800 non-null    uint8\n",
      " 42  Htype_own                                              800 non-null    uint8\n",
      " 43  Htype_pays rent                                        800 non-null    uint8\n",
      " 44  JobType_employee with official position                800 non-null    uint8\n",
      " 45  JobType_non resident either unemployed or  unskilled   800 non-null    uint8\n",
      " 46  JobType_resident unskilled                             800 non-null    uint8\n",
      " 47  telephone_yes                                          800 non-null    uint8\n",
      " 48  foreign_yes                                            800 non-null    uint8\n",
      "dtypes: int64(6), uint8(43)\n",
      "memory usage: 77.3 KB\n"
     ]
    }
   ],
   "source": [
    "X_train.info()"
   ]
  },
  {
   "cell_type": "code",
   "execution_count": null,
   "id": "f87fcbaa-767e-4c52-908c-03e898b364ff",
   "metadata": {},
   "outputs": [
    {
     "name": "stdout",
     "output_type": "stream",
     "text": [
      "Logistic Regression:\n",
      "              precision    recall  f1-score   support\n",
      "\n",
      "           0       0.57      0.38      0.46        60\n",
      "           1       0.77      0.88      0.82       140\n",
      "\n",
      "    accuracy                           0.73       200\n",
      "   macro avg       0.67      0.63      0.64       200\n",
      "weighted avg       0.71      0.73      0.71       200\n",
      "\n"
     ]
    }
   ],
   "source": [
    "# Train Logistic Regression\n",
    "logreg = LogisticRegression(random_state=42, max_iter=1000)\n",
    "logreg.fit(X_train, y_train)\n",
    "\n",
    "# Predict and evaluate\n",
    "y_pred_logreg = logreg.predict(X_test)\n",
    "print(\"Logistic Regression:\")\n",
    "print(classification_report(y_test, y_pred_logreg))\n"
   ]
  },
  {
   "cell_type": "code",
   "execution_count": null,
   "id": "4e0cc25d-fdac-4d4f-8f3b-7eb3984b6049",
   "metadata": {},
   "outputs": [
    {
     "name": "stdout",
     "output_type": "stream",
     "text": [
      "Random Forest:\n",
      "              precision    recall  f1-score   support\n",
      "\n",
      "           0       0.69      0.48      0.57        60\n",
      "           1       0.80      0.91      0.85       140\n",
      "\n",
      "    accuracy                           0.78       200\n",
      "   macro avg       0.75      0.70      0.71       200\n",
      "weighted avg       0.77      0.78      0.77       200\n",
      "\n"
     ]
    }
   ],
   "source": [
    "from sklearn.ensemble import RandomForestClassifier\n",
    "\n",
    "# Train Random Forest\n",
    "rf = RandomForestClassifier(random_state=42, n_estimators=100)\n",
    "rf.fit(X_train, y_train)\n",
    "\n",
    "# Predict and evaluate\n",
    "y_pred_rf = rf.predict(X_test)\n",
    "print(\"Random Forest:\")\n",
    "print(classification_report(y_test, y_pred_rf))"
   ]
  },
  {
   "cell_type": "code",
   "execution_count": null,
   "id": "c98b40eb-3a03-4f81-8f28-77d26edea3d8",
   "metadata": {},
   "outputs": [
    {
     "data": {
      "image/png": "[encoded data removed]",
      "text/plain": [
       "<Figure size 432x288 with 2 Axes>"
      ]
     },
     "metadata": {
      "needs_background": "light"
     },
     "output_type": "display_data"
    },
    {
     "data": {
      "image/png": "[encoded data removed]",
      "text/plain": [
       "<Figure size 432x288 with 2 Axes>"
      ]
     },
     "metadata": {
      "needs_background": "light"
     },
     "output_type": "display_data"
    }
   ],
   "source": [
    "from sklearn.metrics import confusion_matrix, roc_auc_score, RocCurveDisplay\n",
    "import seaborn as sns\n",
    "import matplotlib.pyplot as plt\n",
    "\n",
    "\n",
    "def plot_confusion_matrix(y_true, y_pred, title):\n",
    "    cm = confusion_matrix(y_true, y_pred)\n",
    "    sns.heatmap(cm, annot=True, fmt='d', cmap=\"Blues\", xticklabels=[\"Bad\", \"Good\"], yticklabels=[\"Bad\", \"Good\"])\n",
    "    plt.title(title)\n",
    "    plt.ylabel(\"Actual\")\n",
    "    plt.xlabel(\"Predicted\")\n",
    "    plt.show()\n",
    "\n",
    "# Plot Confusion Matrices\n",
    "plot_confusion_matrix(y_test, y_pred_logreg, \"Logistic Regression\")\n",
    "plot_confusion_matrix(y_test, y_pred_rf, \"Random Forest\")\n",
    "\n",
    "\n"
   ]
  },
  {
   "cell_type": "code",
   "execution_count": null,
   "id": "acca3e3f-b0f9-4146-a7d6-10a887097df9",
   "metadata": {},
   "outputs": [
    {
     "data": {
      "text/plain": [
       "['creditworthiness_model.pkl']"
      ]
     },
     "execution_count": 80,
     "metadata": {},
     "output_type": "execute_result"
    }
   ],
   "source": [
    "import joblib\n",
    "\n",
    "\n",
    "joblib.dump(rf, \"creditworthiness_model.pkl\")"
   ]
  },
  {
   "cell_type": "code",
   "execution_count": null,
   "id": "0a2a2426-4a35-4319-ba97-a59f5c406cc7",
   "metadata": {},
   "outputs": [],
   "source": [
    "import joblib\n",
    "\n",
    "\n",
    "model_path = \"creditworthiness_model.pkl\"\n",
    "rf_model = joblib.load(model_path)"
   ]
  },
  {
   "cell_type": "code",
   "execution_count": null,
   "id": "7a7e9d7e-2699-430e-ae5f-a3f681e57a80",
   "metadata": {},
   "outputs": [],
   "source": [
    "# Define a single sample input\n",
    "sample_data = {\n",
    "    \"Cbal\": \"low\",       \n",
    "    \"Cdur\": 24,      \n",
    "    \"Chist\": \"good\",    \n",
    "    \"Cpur\": \"vehicle\",   \n",
    "    \"Camt\": 200000,     \n",
    "    \"Sbal\": \"moderate\",    \n",
    "    \"Edur\": 3,         \n",
    "    \"InRate\": 15,        \n",
    "    \"MSG\": \"married_male\", \n",
    "    \"Oparties\": \"none\",  \n",
    "    \"Rdur\": \"2_to_4\",    \n",
    "    \"Prop\": \"car\",       \n",
    "    \"age\": 35,           \n",
    "    \"InPlans\": \"none\",    \n",
    "    \"Htype\": \"own\",       \n",
    "    \"NumCred\": 2,         \n",
    "    \"JobType\": \"skilled\",  \n",
    "    \"Ndepend\": 1,         \n",
    "    \"Telephone\": \"yes\",        \n",
    "    \"foreign\": \"no\"        \n",
    "}\n",
    "\n",
    "# Convert to DataFrame\n",
    "sample_df = pd.DataFrame([sample_data])"
   ]
  },
  {
   "cell_type": "code",
   "execution_count": null,
   "id": "657338ab-9343-4d6f-9a21-44a60fd15fb6",
   "metadata": {},
   "outputs": [],
   "source": [
    "sample_processed = pd.get_dummies(sample_df)\n",
    "sample_processed = sample_processed.reindex(columns=x.columns, fill_value=0)"
   ]
  },
  {
   "cell_type": "code",
   "execution_count": null,
   "id": "5a5c99ea-6c77-4225-bd74-89a98987810a",
   "metadata": {},
   "outputs": [
    {
     "name": "stdout",
     "output_type": "stream",
     "text": [
      "Creditworthiness Prediction: good\n",
      "Probability of being Good: 0.59\n"
     ]
    }
   ],
   "source": [
    "# Predict the creditworthiness\n",
    "prediction = rf_model.predict(sample_processed)\n",
    "probability = rf_model.predict_proba(sample_processed)[:, 1]\n",
    "\n",
    "# Interpret the result\n",
    "result = \"good\" if prediction[0] == 1 else \"bad\"\n",
    "print(f\"Creditworthiness Prediction: {result}\")\n",
    "print(f\"Probability of being Good: {probability[0]:.2f}\")\n"
   ]
  },
  {
   "cell_type": "code",
   "execution_count": null,
   "id": "9b31b076-a66f-4e4c-81f3-a4cef87162ae",
   "metadata": {},
   "outputs": [],
   "source": []
  }
 ],
 "metadata": {
  "kernelspec": {
   "display_name": "base",
   "language": "python",
   "name": "python3"
  },
  "language_info": {
   "codemirror_mode": {
    "name": "ipython",
    "version": 3
   },
   "file_extension": ".py",
   "mimetype": "text/x-python",
   "name": "python",
   "nbconvert_exporter": "python",
   "pygments_lexer": "ipython3",
   "version": "3.12.4"
  }
 },
 "nbformat": 4,
 "nbformat_minor": 5
}
